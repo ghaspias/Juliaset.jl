{
 "cells": [
  {
   "cell_type": "code",
   "execution_count": 5,
   "metadata": {
    "collapsed": false
   },
   "outputs": [
    {
     "name": "stdout",
     "output_type": "stream",
     "text": [
      "Base                          Module\n",
      "ColorTypes                    Module\n",
      "ColorVectorSpace              Module\n",
      "Colors                        Module\n",
      "Compat                        Module\n",
      "Core                          Module\n",
      "DataStructures                Module\n",
      "Dates                         Module\n",
      "Docile                        Module\n",
      "FixedPointNumbers             Module\n",
      "GnuTLS                        Module\n",
      "HttpCommon                    Module\n",
      "HttpParser                    Module\n",
      "HttpServer                    Module\n",
      "IJulia                        Module\n",
      "IPythonDisplay                Module\n",
      "Images                        Module\n",
      "JSON                          Module\n",
      "JuliaWebAPI                   Module\n",
      "Juliaset                      Module\n",
      "Logging                       Module\n",
      "Main                          Module\n",
      "Nettle                        Module\n",
      "Reexport                      Module\n",
      "URIParser                     Module\n",
      "ZMQ                           Module\n",
      "__DOCILE_METADATA__           ObjectIdDict with 1 entry\n",
      "__DOCILE_STRINGS__            ObjectIdDict with 1 entry\n"
     ]
    }
   ],
   "source": [
    "whos()"
   ]
  },
  {
   "cell_type": "code",
   "execution_count": 4,
   "metadata": {
    "collapsed": false
   },
   "outputs": [
    {
     "name": "stderr",
     "output_type": "stream",
     "text": [
      "WARNING: This version of the GnuTLS library (3.2.11) is deprecated\n",
      "and contains known security vulnerabilities. Please upgrade to a\n",
      "more recent version.\n"
     ]
    }
   ],
   "source": [
    "require(\"Juliaset.jl\")"
   ]
  },
  {
   "cell_type": "code",
   "execution_count": 6,
   "metadata": {
    "collapsed": false
   },
   "outputs": [
    {
     "data": {
      "text/plain": [
       "3483-element Array{Uint8,1}:\n",
       " 0x89\n",
       " 0x50\n",
       " 0x4e\n",
       " 0x47\n",
       " 0x0d\n",
       " 0x0a\n",
       " 0x1a\n",
       " 0x0a\n",
       " 0x00\n",
       " 0x00\n",
       " 0x00\n",
       " 0x0d\n",
       " 0x49\n",
       "    ⋮\n",
       " 0x00\n",
       " 0x00\n",
       " 0x00\n",
       " 0x00\n",
       " 0x49\n",
       " 0x45\n",
       " 0x4e\n",
       " 0x44\n",
       " 0xae\n",
       " 0x42\n",
       " 0x60\n",
       " 0x82"
      ]
     },
     "execution_count": 6,
     "metadata": {},
     "output_type": "execute_result"
    }
   ],
   "source": [
    "Juliaset.juliaset()"
   ]
  },
  {
   "cell_type": "code",
   "execution_count": 7,
   "metadata": {
    "collapsed": false
   },
   "outputs": [
    {
     "name": "stdout",
     "output_type": "stream",
     "text": [
      "AbstractImage                 DataType\n",
      "AbstractImageDirect           DataType\n",
      "AbstractImageIndexed          DataType\n",
      "BitShift                      DataType\n",
      "Clamp                         DataType\n",
      "ClampMax                      DataType\n",
      "ClampMin                      DataType\n",
      "ClampMinMax                   DataType\n",
      "ClipMax                       Function\n",
      "ClipMin                       Function\n",
      "ClipMinMax                    Function\n",
      "Image                         DataType\n",
      "ImageCmap                     DataType\n",
      "Images                        Module\n",
      "LabeledArray                  DataType\n",
      "MapInfo                       DataType\n",
      "MapNone                       DataType\n",
      "Overlay                       DataType\n",
      "OverlayImage                  Function\n",
      "ScaleAutoMinMax               DataType\n",
      "ScaleInfo                     DataType\n",
      "ScaleMinMax                   DataType\n",
      "ScaleSigned                   DataType\n",
      "SliceData                     DataType\n",
      "add_image_file_format         Function\n",
      "ando3                         Function\n",
      "ando4                         Function\n",
      "ando5                         Function\n",
      "assert2d                      Function\n",
      "assert_scalar_color           Function\n",
      "assert_timedim_last           Function\n",
      "assert_xfirst                 Function\n",
      "assert_yfirst                 Function\n",
      "backdiffx                     Function\n",
      "backdiffy                     Function\n",
      "climdefault                   Function\n",
      "closing                       Function\n",
      "colordim                      Function\n",
      "colorim                       Function\n",
      "colorspace                    Function\n",
      "coords                        Function\n",
      "coords_spatial                Function\n",
      "copy                          Function\n",
      "copyproperties                Function\n",
      "data                          Function\n",
      "dilate                        Function\n",
      "dimindex                      Function\n",
      "dimindexes                    Function\n",
      "erode                         Function\n",
      "first_index                   Function\n",
      "float32sc                     Function\n",
      "float64sc                     Function\n",
      "forwarddiffx                  Function\n",
      "forwarddiffy                  Function\n",
      "gaussian2d                    Function\n",
      "getindexim                    Function\n",
      "grayim                        Function\n",
      "height                        Function\n",
      "imROF                         Function\n",
      "imadjustintensity             Function\n",
      "imaverage                     Function\n",
      "imcomplement                  Function\n",
      "imdog                         Function\n",
      "imedge                        Function\n",
      "imfilter                      Function\n",
      "imfilter!                     Function\n",
      "imfilter_LoG                  Function\n",
      "imfilter_fft                  Function\n",
      "imfilter_gaussian             Function\n",
      "imfilter_gaussian!            Function\n",
      "imgaussiannoise               Function\n",
      "imgradients                   Function\n",
      "imlaplacian                   Function\n",
      "imlineardiffusion             Function\n",
      "imlog                         Function\n",
      "imread                        Function\n",
      "imstretch                     Function\n",
      "imwrite                       Function\n",
      "isdirect                      Function\n",
      "isxfirst                      Function\n",
      "isyfirst                      Function\n",
      "label_components              Function\n",
      "label_components!             Function\n",
      "limits                        Function\n",
      "loadformat                    Function\n",
      "magnitude                     Function\n",
      "magnitude_phase               Function\n",
      "mapinfo                       Function\n",
      "maxabsfinite                  Function\n",
      "maxfinite                     Function\n",
      "meanfinite                    Function\n",
      "minfinite                     Function\n",
      "ncc                           Function\n",
      "nchannels                     Function\n",
      "ncolorelem                    Function\n",
      "nimages                       Function\n",
      "opening                       Function\n",
      "orientation                   Function\n",
      "padarray                      Function\n",
      "parent                        Function\n",
      "phase                         Function\n",
      "pixelspacing                  Function\n",
      "prewitt                       Function\n",
      "properties                    Function\n",
      "raw                           Function\n",
      "rerange!                      Function\n",
      "reslice!                      Function\n",
      "restrict                      Function\n",
      "sad                           Function\n",
      "sadn                          Function\n",
      "sc                            Function\n",
      "scale                         Function\n",
      "scale!                        Function\n",
      "scaleinfo                     Function\n",
      "scaleminmax                   Function\n",
      "sdims                         Function\n",
      "separate                      Function\n",
      "share                         Function\n",
      "shareproperties               Function\n",
      "shepp_logan                   Function\n",
      "size_spatial                  Function\n",
      "sliceim                       Function\n",
      "sobel                         Function\n",
      "spacedirections               Function\n",
      "spatialorder                  Function\n",
      "spatialpermutation            Function\n",
      "spatialproperties             Function\n",
      "ssd                           Function\n",
      "ssdn                          Function\n",
      "storageorder                  Function\n",
      "subim                         Function\n",
      "thin_edges                    Function\n",
      "thin_edges_nonmaxsup          Function\n",
      "thin_edges_nonmaxsup_subpix   Function\n",
      "thin_edges_subpix             Function\n",
      "timedim                       Function\n",
      "uint16sc                      Function\n",
      "uint32color                   Function\n",
      "uint32color!                  Function\n",
      "uint8sc                       Function\n",
      "width                         Function\n",
      "widthheight                   Function\n"
     ]
    }
   ],
   "source": [
    "whos(Images)"
   ]
  },
  {
   "cell_type": "code",
   "execution_count": 9,
   "metadata": {
    "collapsed": false
   },
   "outputs": [
    {
     "data": {
      "text/html": [
       "7 methods for generic function <b>colorim</b>:<ul><li> colorim(A::<b>AbstractImage{T,N}</b>) at <a href=\"https://github.com/timholy/Images.jl/tree/ecd35f185912489a94e57f22852d8be974b6a9dd/src/core.jl#L35\" target=\"_blank\">/home/juser/.julia/v0.3/Images/src/core.jl:35</a><li> colorim(A::<b>AbstractArray{Uint8,3}</b>) at <a href=\"https://github.com/timholy/Images.jl/tree/ecd35f185912489a94e57f22852d8be974b6a9dd/src/core.jl#L61\" target=\"_blank\">/home/juser/.julia/v0.3/Images/src/core.jl:61</a><li> colorim(A::<b>AbstractArray{Uint16,3}</b>) at <a href=\"https://github.com/timholy/Images.jl/tree/ecd35f185912489a94e57f22852d8be974b6a9dd/src/core.jl#L62\" target=\"_blank\">/home/juser/.julia/v0.3/Images/src/core.jl:62</a><li> colorim(A::<b>AbstractArray{Uint8,3}</b>,colorspace) at <a href=\"https://github.com/timholy/Images.jl/tree/ecd35f185912489a94e57f22852d8be974b6a9dd/src/core.jl#L63\" target=\"_blank\">/home/juser/.julia/v0.3/Images/src/core.jl:63</a><li> colorim(A::<b>AbstractArray{Uint16,3}</b>,colorspace) at <a href=\"https://github.com/timholy/Images.jl/tree/ecd35f185912489a94e57f22852d8be974b6a9dd/src/core.jl#L64\" target=\"_blank\">/home/juser/.julia/v0.3/Images/src/core.jl:64</a><li> colorim<i>{T}</i>(A::<b>AbstractArray{T,3}</b>) at <a href=\"https://github.com/timholy/Images.jl/tree/ecd35f185912489a94e57f22852d8be974b6a9dd/src/core.jl#L37\" target=\"_blank\">/home/juser/.julia/v0.3/Images/src/core.jl:37</a><li> colorim<i>{T}</i>(A::<b>AbstractArray{T,3}</b>,colorspace) at <a href=\"https://github.com/timholy/Images.jl/tree/ecd35f185912489a94e57f22852d8be974b6a9dd/src/core.jl#L45\" target=\"_blank\">/home/juser/.julia/v0.3/Images/src/core.jl:45</a></ul>"
      ],
      "text/plain": [
       "# 7 methods for generic function \"colorim\":\n",
       "colorim(A::AbstractImage{T,N}) at /home/juser/.julia/v0.3/Images/src/core.jl:35\n",
       "colorim(A::AbstractArray{Uint8,3}) at /home/juser/.julia/v0.3/Images/src/core.jl:61\n",
       "colorim(A::AbstractArray{Uint16,3}) at /home/juser/.julia/v0.3/Images/src/core.jl:62\n",
       "colorim(A::AbstractArray{Uint8,3},colorspace) at /home/juser/.julia/v0.3/Images/src/core.jl:63\n",
       "colorim(A::AbstractArray{Uint16,3},colorspace) at /home/juser/.julia/v0.3/Images/src/core.jl:64\n",
       "colorim{T}(A::AbstractArray{T,3}) at /home/juser/.julia/v0.3/Images/src/core.jl:37\n",
       "colorim{T}(A::AbstractArray{T,3},colorspace) at /home/juser/.julia/v0.3/Images/src/core.jl:45"
      ]
     },
     "execution_count": 9,
     "metadata": {},
     "output_type": "execute_result"
    }
   ],
   "source": [
    "methods(Images.colorim)"
   ]
  },
  {
   "cell_type": "code",
   "execution_count": null,
   "metadata": {
    "collapsed": true
   },
   "outputs": [],
   "source": []
  }
 ],
 "metadata": {
  "kernelspec": {
   "display_name": "Julia 0.3.11",
   "language": "julia",
   "name": "julia-0.3"
  },
  "language_info": {
   "file_extension": ".jl",
   "mimetype": "application/julia",
   "name": "julia",
   "version": "0.3.11"
  }
 },
 "nbformat": 4,
 "nbformat_minor": 0
}
